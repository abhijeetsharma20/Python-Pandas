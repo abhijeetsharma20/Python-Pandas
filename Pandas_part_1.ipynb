{
  "nbformat": 4,
  "nbformat_minor": 0,
  "metadata": {
    "colab": {
      "name": "Pandas part-1.ipynb",
      "provenance": []
    },
    "kernelspec": {
      "name": "python3",
      "display_name": "Python 3"
    },
    "language_info": {
      "name": "python"
    }
  },
  "cells": [
    {
      "cell_type": "markdown",
      "metadata": {
        "id": "HMZMxj1tAlS2"
      },
      "source": [
        "## Pandas Introduction"
      ]
    },
    {
      "cell_type": "markdown",
      "metadata": {
        "id": "s5Rlo5RGBDfB"
      },
      "source": [
        "Importing Pandas"
      ]
    },
    {
      "cell_type": "code",
      "metadata": {
        "id": "aZWqwDOlAOoW"
      },
      "source": [
        "import pandas as pd"
      ],
      "execution_count": 1,
      "outputs": []
    },
    {
      "cell_type": "markdown",
      "metadata": {
        "id": "GErbSYHcBqDu"
      },
      "source": [
        "Checking version of python pandas"
      ]
    },
    {
      "cell_type": "code",
      "metadata": {
        "colab": {
          "base_uri": "https://localhost:8080/",
          "height": 35
        },
        "id": "-AmlNDn8AkSj",
        "outputId": "4fc2d333-5fcf-44ab-e90c-ac041ecf42d9"
      },
      "source": [
        "pd.__version__"
      ],
      "execution_count": 3,
      "outputs": [
        {
          "output_type": "execute_result",
          "data": {
            "application/vnd.google.colaboratory.intrinsic+json": {
              "type": "string"
            },
            "text/plain": [
              "'1.1.5'"
            ]
          },
          "metadata": {
            "tags": []
          },
          "execution_count": 3
        }
      ]
    },
    {
      "cell_type": "markdown",
      "metadata": {
        "id": "eBqz9xDTAsar"
      },
      "source": [
        "Pandas can read 3 types of data structure :\n",
        "\n",
        "\n",
        "*   Series\n",
        "*   Data Frame\n",
        "*   Panel\n",
        "\n",
        "\n",
        "\n",
        "\n",
        "\n",
        "\n",
        "\n",
        "\n",
        "\n"
      ]
    },
    {
      "cell_type": "markdown",
      "metadata": {
        "id": "wMwI3xnMBXZ7"
      },
      "source": [
        "## Series Data Structure in Pandas\n",
        "\n",
        "\n",
        "*   Series is a 1-D indexed array\n",
        "\n",
        "\n"
      ]
    },
    {
      "cell_type": "code",
      "metadata": {
        "id": "U27woGvZB1vF"
      },
      "source": [
        "list_s = ['abc',1,2,3,'def']\n",
        "print(list_s)"
      ],
      "execution_count": null,
      "outputs": []
    },
    {
      "cell_type": "markdown",
      "metadata": {
        "id": "q8zQoqHAB-VR"
      },
      "source": [
        "Creating Series using list"
      ]
    },
    {
      "cell_type": "code",
      "metadata": {
        "colab": {
          "base_uri": "https://localhost:8080/"
        },
        "id": "E4uGVwg_B8tw",
        "outputId": "a83cf217-299a-4b43-bbc8-917423cfdb04"
      },
      "source": [
        "ser_1 = pd.Series(list_s)\n",
        "print(ser_1)\n",
        "type(ser_1)"
      ],
      "execution_count": 7,
      "outputs": [
        {
          "output_type": "stream",
          "text": [
            "0    abc\n",
            "1      1\n",
            "2      2\n",
            "3      3\n",
            "4    def\n",
            "dtype: object\n"
          ],
          "name": "stdout"
        },
        {
          "output_type": "execute_result",
          "data": {
            "text/plain": [
              "pandas.core.series.Series"
            ]
          },
          "metadata": {
            "tags": []
          },
          "execution_count": 7
        }
      ]
    },
    {
      "cell_type": "code",
      "metadata": {
        "colab": {
          "base_uri": "https://localhost:8080/"
        },
        "id": "1D7kou72CFot",
        "outputId": "a63822eb-12a7-4af6-cc45-5d5f8d889f44"
      },
      "source": [
        "ser_2 = pd.Series(['abc',1,2,3,'def'], index=[1,2,3,4,5]) # 1. you can assign index according to your need\n",
        "                                                          # 2. number of index value should be same as number of items in Series\n",
        "print(ser_2)"
      ],
      "execution_count": 10,
      "outputs": [
        {
          "output_type": "stream",
          "text": [
            "1    abc\n",
            "2      1\n",
            "3      2\n",
            "4      3\n",
            "5    def\n",
            "dtype: object\n"
          ],
          "name": "stdout"
        }
      ]
    },
    {
      "cell_type": "code",
      "metadata": {
        "colab": {
          "base_uri": "https://localhost:8080/"
        },
        "id": "zgrKjhTyCKIW",
        "outputId": "b4f6dc9b-3587-49d6-e5fa-956213c52848"
      },
      "source": [
        "ser_3 = pd.Series([67,1,2,3,6], index=[1,2,3,4,5], dtype='float') # you can pass/change datatype also.\n",
        "print(ser_3)"
      ],
      "execution_count": 12,
      "outputs": [
        {
          "output_type": "stream",
          "text": [
            "1    67.0\n",
            "2     1.0\n",
            "3     2.0\n",
            "4     3.0\n",
            "5     6.0\n",
            "dtype: float64\n"
          ],
          "name": "stdout"
        }
      ]
    },
    {
      "cell_type": "code",
      "metadata": {
        "colab": {
          "base_uri": "https://localhost:8080/"
        },
        "id": "wJGi5-nDDM8s",
        "outputId": "d20e376c-2c45-40d5-bbb7-4218a7ddfa01"
      },
      "source": [
        "ser_4 = pd.Series([67,1,2,3,6], index=[1,2,3,4,5], dtype='float', name='data values') #column name \n",
        "print(ser_4)"
      ],
      "execution_count": 13,
      "outputs": [
        {
          "output_type": "stream",
          "text": [
            "1    67.0\n",
            "2     1.0\n",
            "3     2.0\n",
            "4     3.0\n",
            "5     6.0\n",
            "Name: data values, dtype: float64\n"
          ],
          "name": "stdout"
        }
      ]
    },
    {
      "cell_type": "markdown",
      "metadata": {
        "id": "xBmOKFaXDuml"
      },
      "source": [
        "creating series with scalar values"
      ]
    },
    {
      "cell_type": "code",
      "metadata": {
        "colab": {
          "base_uri": "https://localhost:8080/"
        },
        "id": "nEOA4xq0DmDx",
        "outputId": "11e6ee4e-f8eb-4eed-e51c-8584f5db852e"
      },
      "source": [
        "ser_5 = pd.Series(0.5)\n",
        "print(ser_5)"
      ],
      "execution_count": 15,
      "outputs": [
        {
          "output_type": "stream",
          "text": [
            "0    0.5\n",
            "dtype: float64\n"
          ],
          "name": "stdout"
        }
      ]
    },
    {
      "cell_type": "markdown",
      "metadata": {
        "id": "qqXnXwkhD8Ew"
      },
      "source": [
        "creating Series with Dictionary"
      ]
    },
    {
      "cell_type": "code",
      "metadata": {
        "colab": {
          "base_uri": "https://localhost:8080/"
        },
        "id": "aRhOyv5KD14T",
        "outputId": "3afe52f6-c5f8-4b3c-ae74-e8de515bddec"
      },
      "source": [
        "ser_6 = pd.Series({1:'a', 2:'b'})\n",
        "print(ser_6)"
      ],
      "execution_count": 16,
      "outputs": [
        {
          "output_type": "stream",
          "text": [
            "1    a\n",
            "2    b\n",
            "dtype: object\n"
          ],
          "name": "stdout"
        }
      ]
    },
    {
      "cell_type": "code",
      "metadata": {
        "id": "5C_jl0NrE2pg"
      },
      "source": [
        "ser_7 = pd.Series([67,1,2,3,6], index=[1,2,3,4,5], dtype='float', name='data values')"
      ],
      "execution_count": 21,
      "outputs": []
    },
    {
      "cell_type": "code",
      "metadata": {
        "colab": {
          "base_uri": "https://localhost:8080/"
        },
        "id": "vmT5e4KnEHzy",
        "outputId": "96c37875-b3b7-4cf6-bb84-74d60848c027"
      },
      "source": [
        "print(ser_7[1]) # can access any values with index value\n",
        "print(ser_7[1:4]) # slicing"
      ],
      "execution_count": 22,
      "outputs": [
        {
          "output_type": "stream",
          "text": [
            "67.0\n",
            "2    1.0\n",
            "3    2.0\n",
            "4    3.0\n",
            "Name: data values, dtype: float64\n"
          ],
          "name": "stdout"
        }
      ]
    },
    {
      "cell_type": "code",
      "metadata": {
        "colab": {
          "base_uri": "https://localhost:8080/"
        },
        "id": "PXz6A3tvEr7g",
        "outputId": "92a34729-c354-4cd2-883c-2f31bf788387"
      },
      "source": [
        "print(max(ser_7), min(ser_7)) # max and min function"
      ],
      "execution_count": 23,
      "outputs": [
        {
          "output_type": "stream",
          "text": [
            "67.0 1.0\n"
          ],
          "name": "stdout"
        }
      ]
    },
    {
      "cell_type": "code",
      "metadata": {
        "colab": {
          "base_uri": "https://localhost:8080/"
        },
        "id": "eyLAnIDgFKQ0",
        "outputId": "689b6cae-08e2-4a8e-94fc-faeea8c75afd"
      },
      "source": [
        "ser_7[ser_7 > 3] #conditional opreater"
      ],
      "execution_count": 24,
      "outputs": [
        {
          "output_type": "execute_result",
          "data": {
            "text/plain": [
              "1    67.0\n",
              "5     6.0\n",
              "Name: data values, dtype: float64"
            ]
          },
          "metadata": {
            "tags": []
          },
          "execution_count": 24
        }
      ]
    },
    {
      "cell_type": "markdown",
      "metadata": {
        "id": "Wu35HzOiF1PP"
      },
      "source": [
        "Mathematical opreations "
      ]
    },
    {
      "cell_type": "code",
      "metadata": {
        "id": "Gz7d2EkAFSos"
      },
      "source": [
        "ser_8 = pd.Series([1,2,3,4])\n",
        "ser_9 = pd.Series([6,7,8,9])\n",
        "ser_10 = pd.Series([5,6])"
      ],
      "execution_count": 27,
      "outputs": []
    },
    {
      "cell_type": "code",
      "metadata": {
        "colab": {
          "base_uri": "https://localhost:8080/"
        },
        "id": "XagJH_zmF0XT",
        "outputId": "557ec5ea-bc90-4ab7-81bd-7ce082ba822c"
      },
      "source": [
        "ser_8 + ser_9  #both series have equal elements"
      ],
      "execution_count": 26,
      "outputs": [
        {
          "output_type": "execute_result",
          "data": {
            "text/plain": [
              "0     7\n",
              "1     9\n",
              "2    11\n",
              "3    13\n",
              "dtype: int64"
            ]
          },
          "metadata": {
            "tags": []
          },
          "execution_count": 26
        }
      ]
    },
    {
      "cell_type": "code",
      "metadata": {
        "colab": {
          "base_uri": "https://localhost:8080/"
        },
        "id": "aQPwj20sF319",
        "outputId": "71cd2c53-43a9-47df-f557-f945a3f58218"
      },
      "source": [
        "ser_8 + ser_10 #unequal number of elements are present in both the Series\n",
        "                # NaN : Not a number"
      ],
      "execution_count": 28,
      "outputs": [
        {
          "output_type": "execute_result",
          "data": {
            "text/plain": [
              "0    6.0\n",
              "1    8.0\n",
              "2    NaN\n",
              "3    NaN\n",
              "dtype: float64"
            ]
          },
          "metadata": {
            "tags": []
          },
          "execution_count": 28
        }
      ]
    },
    {
      "cell_type": "code",
      "metadata": {
        "colab": {
          "base_uri": "https://localhost:8080/"
        },
        "id": "bL1ZSVhlGJ-j",
        "outputId": "14412153-92f2-46b3-f28d-f9e3ce420e7b"
      },
      "source": [
        "ser_9 - ser_8"
      ],
      "execution_count": 30,
      "outputs": [
        {
          "output_type": "execute_result",
          "data": {
            "text/plain": [
              "0    5\n",
              "1    5\n",
              "2    5\n",
              "3    5\n",
              "dtype: int64"
            ]
          },
          "metadata": {
            "tags": []
          },
          "execution_count": 30
        }
      ]
    },
    {
      "cell_type": "markdown",
      "metadata": {
        "id": "YEl04eDNK_9d"
      },
      "source": [
        "#DataFrame\n",
        "\n",
        "\n",
        "\n",
        "*    DataFrame is 2-D, size mutable, potentially heterogenous tabular data structure\n",
        "\n",
        "\n",
        "\n",
        "\n",
        "\n"
      ]
    },
    {
      "cell_type": "markdown",
      "metadata": {
        "id": "EAQ9TzPJLQbn"
      },
      "source": [
        "How to create dataframe"
      ]
    },
    {
      "cell_type": "code",
      "metadata": {
        "colab": {
          "base_uri": "https://localhost:8080/"
        },
        "id": "YCyCyx_cLqcI",
        "outputId": "d9489adf-df58-466c-9448-581859e15ce3"
      },
      "source": [
        "emp = pd.DataFrame() #empty dataframe\n",
        "print(emp)"
      ],
      "execution_count": 31,
      "outputs": [
        {
          "output_type": "stream",
          "text": [
            "Empty DataFrame\n",
            "Columns: []\n",
            "Index: []\n"
          ],
          "name": "stdout"
        }
      ]
    },
    {
      "cell_type": "markdown",
      "metadata": {
        "id": "2GrBxdTML8QM"
      },
      "source": [
        "creating dataframe using list"
      ]
    },
    {
      "cell_type": "code",
      "metadata": {
        "id": "82gi8w6ELygb"
      },
      "source": [
        "lst = [1,2,3,4]\n",
        "df = pd.DataFrame(lst)"
      ],
      "execution_count": 32,
      "outputs": []
    },
    {
      "cell_type": "code",
      "metadata": {
        "colab": {
          "base_uri": "https://localhost:8080/",
          "height": 143
        },
        "id": "XeK8oPqPXTdc",
        "outputId": "7c1d0ad3-e652-4f98-9034-2ac46214b794"
      },
      "source": [
        "ls_of_ls = [[1,2,3],[4,5,6],[7,8,9]]\n",
        "df2  = pd.DataFrame(ls_of_ls)\n",
        "df2"
      ],
      "execution_count": 35,
      "outputs": [
        {
          "output_type": "execute_result",
          "data": {
            "text/html": [
              "<div>\n",
              "<style scoped>\n",
              "    .dataframe tbody tr th:only-of-type {\n",
              "        vertical-align: middle;\n",
              "    }\n",
              "\n",
              "    .dataframe tbody tr th {\n",
              "        vertical-align: top;\n",
              "    }\n",
              "\n",
              "    .dataframe thead th {\n",
              "        text-align: right;\n",
              "    }\n",
              "</style>\n",
              "<table border=\"1\" class=\"dataframe\">\n",
              "  <thead>\n",
              "    <tr style=\"text-align: right;\">\n",
              "      <th></th>\n",
              "      <th>0</th>\n",
              "      <th>1</th>\n",
              "      <th>2</th>\n",
              "    </tr>\n",
              "  </thead>\n",
              "  <tbody>\n",
              "    <tr>\n",
              "      <th>0</th>\n",
              "      <td>1</td>\n",
              "      <td>2</td>\n",
              "      <td>3</td>\n",
              "    </tr>\n",
              "    <tr>\n",
              "      <th>1</th>\n",
              "      <td>4</td>\n",
              "      <td>5</td>\n",
              "      <td>6</td>\n",
              "    </tr>\n",
              "    <tr>\n",
              "      <th>2</th>\n",
              "      <td>7</td>\n",
              "      <td>8</td>\n",
              "      <td>9</td>\n",
              "    </tr>\n",
              "  </tbody>\n",
              "</table>\n",
              "</div>"
            ],
            "text/plain": [
              "   0  1  2\n",
              "0  1  2  3\n",
              "1  4  5  6\n",
              "2  7  8  9"
            ]
          },
          "metadata": {
            "tags": []
          },
          "execution_count": 35
        }
      ]
    },
    {
      "cell_type": "markdown",
      "metadata": {
        "id": "HDS-aOW8X9WN"
      },
      "source": [
        "creating dataframe with dictionary"
      ]
    },
    {
      "cell_type": "code",
      "metadata": {
        "colab": {
          "base_uri": "https://localhost:8080/",
          "height": 143
        },
        "id": "9ScpaMwIX1l6",
        "outputId": "2d7d362d-9051-4061-8133-008c341e9486"
      },
      "source": [
        "dict1 = {'ID':[1,2,3], 'age':[30,89,67]} #values of all the keys should be equal\n",
        "df3 = pd.DataFrame(dict1)\n",
        "df3"
      ],
      "execution_count": 36,
      "outputs": [
        {
          "output_type": "execute_result",
          "data": {
            "text/html": [
              "<div>\n",
              "<style scoped>\n",
              "    .dataframe tbody tr th:only-of-type {\n",
              "        vertical-align: middle;\n",
              "    }\n",
              "\n",
              "    .dataframe tbody tr th {\n",
              "        vertical-align: top;\n",
              "    }\n",
              "\n",
              "    .dataframe thead th {\n",
              "        text-align: right;\n",
              "    }\n",
              "</style>\n",
              "<table border=\"1\" class=\"dataframe\">\n",
              "  <thead>\n",
              "    <tr style=\"text-align: right;\">\n",
              "      <th></th>\n",
              "      <th>ID</th>\n",
              "      <th>age</th>\n",
              "    </tr>\n",
              "  </thead>\n",
              "  <tbody>\n",
              "    <tr>\n",
              "      <th>0</th>\n",
              "      <td>1</td>\n",
              "      <td>30</td>\n",
              "    </tr>\n",
              "    <tr>\n",
              "      <th>1</th>\n",
              "      <td>2</td>\n",
              "      <td>89</td>\n",
              "    </tr>\n",
              "    <tr>\n",
              "      <th>2</th>\n",
              "      <td>3</td>\n",
              "      <td>67</td>\n",
              "    </tr>\n",
              "  </tbody>\n",
              "</table>\n",
              "</div>"
            ],
            "text/plain": [
              "   ID  age\n",
              "0   1   30\n",
              "1   2   89\n",
              "2   3   67"
            ]
          },
          "metadata": {
            "tags": []
          },
          "execution_count": 36
        }
      ]
    },
    {
      "cell_type": "markdown",
      "metadata": {
        "id": "Q9NqRXAQYhQV"
      },
      "source": [
        "creating dataframe with list of dictionary"
      ]
    },
    {
      "cell_type": "code",
      "metadata": {
        "colab": {
          "base_uri": "https://localhost:8080/",
          "height": 112
        },
        "id": "KPSpBDyTYAV3",
        "outputId": "eb5bb033-0620-4bf3-dbb1-ad7d2c0eb2bd"
      },
      "source": [
        "ls_dict = [{'a':1, 'b':2},{'a':4,'b':5}]\n",
        "df4 = pd.DataFrame(ls_dict)\n",
        "df4"
      ],
      "execution_count": 37,
      "outputs": [
        {
          "output_type": "execute_result",
          "data": {
            "text/html": [
              "<div>\n",
              "<style scoped>\n",
              "    .dataframe tbody tr th:only-of-type {\n",
              "        vertical-align: middle;\n",
              "    }\n",
              "\n",
              "    .dataframe tbody tr th {\n",
              "        vertical-align: top;\n",
              "    }\n",
              "\n",
              "    .dataframe thead th {\n",
              "        text-align: right;\n",
              "    }\n",
              "</style>\n",
              "<table border=\"1\" class=\"dataframe\">\n",
              "  <thead>\n",
              "    <tr style=\"text-align: right;\">\n",
              "      <th></th>\n",
              "      <th>a</th>\n",
              "      <th>b</th>\n",
              "    </tr>\n",
              "  </thead>\n",
              "  <tbody>\n",
              "    <tr>\n",
              "      <th>0</th>\n",
              "      <td>1</td>\n",
              "      <td>2</td>\n",
              "    </tr>\n",
              "    <tr>\n",
              "      <th>1</th>\n",
              "      <td>4</td>\n",
              "      <td>5</td>\n",
              "    </tr>\n",
              "  </tbody>\n",
              "</table>\n",
              "</div>"
            ],
            "text/plain": [
              "   a  b\n",
              "0  1  2\n",
              "1  4  5"
            ]
          },
          "metadata": {
            "tags": []
          },
          "execution_count": 37
        }
      ]
    },
    {
      "cell_type": "code",
      "metadata": {
        "colab": {
          "base_uri": "https://localhost:8080/",
          "height": 112
        },
        "id": "UcijCAWTY2NM",
        "outputId": "1af708e9-0a92-478f-f294-aab9b58d8359"
      },
      "source": [
        "ls_dict = [{'a':1, 'b':2},{'a':4,'b':5,'c':6}] #handling missing value\n",
        "df4 = pd.DataFrame(ls_dict)\n",
        "df4"
      ],
      "execution_count": 38,
      "outputs": [
        {
          "output_type": "execute_result",
          "data": {
            "text/html": [
              "<div>\n",
              "<style scoped>\n",
              "    .dataframe tbody tr th:only-of-type {\n",
              "        vertical-align: middle;\n",
              "    }\n",
              "\n",
              "    .dataframe tbody tr th {\n",
              "        vertical-align: top;\n",
              "    }\n",
              "\n",
              "    .dataframe thead th {\n",
              "        text-align: right;\n",
              "    }\n",
              "</style>\n",
              "<table border=\"1\" class=\"dataframe\">\n",
              "  <thead>\n",
              "    <tr style=\"text-align: right;\">\n",
              "      <th></th>\n",
              "      <th>a</th>\n",
              "      <th>b</th>\n",
              "      <th>c</th>\n",
              "    </tr>\n",
              "  </thead>\n",
              "  <tbody>\n",
              "    <tr>\n",
              "      <th>0</th>\n",
              "      <td>1</td>\n",
              "      <td>2</td>\n",
              "      <td>NaN</td>\n",
              "    </tr>\n",
              "    <tr>\n",
              "      <th>1</th>\n",
              "      <td>4</td>\n",
              "      <td>5</td>\n",
              "      <td>6.0</td>\n",
              "    </tr>\n",
              "  </tbody>\n",
              "</table>\n",
              "</div>"
            ],
            "text/plain": [
              "   a  b    c\n",
              "0  1  2  NaN\n",
              "1  4  5  6.0"
            ]
          },
          "metadata": {
            "tags": []
          },
          "execution_count": 38
        }
      ]
    },
    {
      "cell_type": "markdown",
      "metadata": {
        "id": "3MWhljN1ZTf8"
      },
      "source": [
        "creating dataframe with dictionary of series"
      ]
    },
    {
      "cell_type": "code",
      "metadata": {
        "colab": {
          "base_uri": "https://localhost:8080/",
          "height": 143
        },
        "id": "4wjNfbm8Y_Kd",
        "outputId": "ca9336a9-152a-44a0-ed01-6614f08c1664"
      },
      "source": [
        "ser_dict  = {'ID':pd.Series([1,2,3])}\n",
        "df5 = pd.DataFrame(ser_dict)\n",
        "df5"
      ],
      "execution_count": 40,
      "outputs": [
        {
          "output_type": "execute_result",
          "data": {
            "text/html": [
              "<div>\n",
              "<style scoped>\n",
              "    .dataframe tbody tr th:only-of-type {\n",
              "        vertical-align: middle;\n",
              "    }\n",
              "\n",
              "    .dataframe tbody tr th {\n",
              "        vertical-align: top;\n",
              "    }\n",
              "\n",
              "    .dataframe thead th {\n",
              "        text-align: right;\n",
              "    }\n",
              "</style>\n",
              "<table border=\"1\" class=\"dataframe\">\n",
              "  <thead>\n",
              "    <tr style=\"text-align: right;\">\n",
              "      <th></th>\n",
              "      <th>ID</th>\n",
              "    </tr>\n",
              "  </thead>\n",
              "  <tbody>\n",
              "    <tr>\n",
              "      <th>0</th>\n",
              "      <td>1</td>\n",
              "    </tr>\n",
              "    <tr>\n",
              "      <th>1</th>\n",
              "      <td>2</td>\n",
              "    </tr>\n",
              "    <tr>\n",
              "      <th>2</th>\n",
              "      <td>3</td>\n",
              "    </tr>\n",
              "  </tbody>\n",
              "</table>\n",
              "</div>"
            ],
            "text/plain": [
              "   ID\n",
              "0   1\n",
              "1   2\n",
              "2   3"
            ]
          },
          "metadata": {
            "tags": []
          },
          "execution_count": 40
        }
      ]
    }
  ]
}